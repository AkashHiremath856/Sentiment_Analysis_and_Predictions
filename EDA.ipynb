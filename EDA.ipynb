{
 "cells": [
  {
   "cell_type": "markdown",
   "id": "5989d979-096f-490d-8eef-000843e0b081",
   "metadata": {},
   "source": [
    "# Importing Libraries"
   ]
  },
  {
   "cell_type": "code",
   "execution_count": 1,
   "id": "3d0efde8-4ab4-4783-9d2d-d72ca1fb1c9d",
   "metadata": {},
   "outputs": [],
   "source": [
    "import re\n",
    "\n",
    "import matplotlib.pyplot as plt\n",
    "import nltk\n",
    "import pandas as pd\n",
    "from nltk.corpus import stopwords\n",
    "from nltk.sentiment.vader import SentimentIntensityAnalyzer"
   ]
  },
  {
   "cell_type": "code",
   "execution_count": 2,
   "id": "50717b61-9d7f-4753-90b0-395d2e9cc167",
   "metadata": {},
   "outputs": [
    {
     "data": {
      "text/html": [
       "<div>\n",
       "<style scoped>\n",
       "    .dataframe tbody tr th:only-of-type {\n",
       "        vertical-align: middle;\n",
       "    }\n",
       "\n",
       "    .dataframe tbody tr th {\n",
       "        vertical-align: top;\n",
       "    }\n",
       "\n",
       "    .dataframe thead th {\n",
       "        text-align: right;\n",
       "    }\n",
       "</style>\n",
       "<table border=\"1\" class=\"dataframe\">\n",
       "  <thead>\n",
       "    <tr style=\"text-align: right;\">\n",
       "      <th></th>\n",
       "      <th>Review</th>\n",
       "      <th>date</th>\n",
       "      <th>Location</th>\n",
       "    </tr>\n",
       "  </thead>\n",
       "  <tbody>\n",
       "    <tr>\n",
       "      <th>0</th>\n",
       "      <td>I was very impressed with the resort.\\n Great ...</td>\n",
       "      <td>2019-08-20</td>\n",
       "      <td>Sebastian</td>\n",
       "    </tr>\n",
       "    <tr>\n",
       "      <th>1</th>\n",
       "      <td>The rooms were nice the outside needs work als...</td>\n",
       "      <td>2019-08-20</td>\n",
       "      <td>Los Angeles</td>\n",
       "    </tr>\n",
       "    <tr>\n",
       "      <th>2</th>\n",
       "      <td>Great location! I have stayed at this hotel on...</td>\n",
       "      <td>2019-08-20</td>\n",
       "      <td>Georgia</td>\n",
       "    </tr>\n",
       "    <tr>\n",
       "      <th>3</th>\n",
       "      <td>The hotel was adequate for my stay. The strips...</td>\n",
       "      <td>2019-08-20</td>\n",
       "      <td>NaN</td>\n",
       "    </tr>\n",
       "    <tr>\n",
       "      <th>4</th>\n",
       "      <td>Great location, room was large and spacious. P...</td>\n",
       "      <td>2019-08-19</td>\n",
       "      <td>Palm Harbor</td>\n",
       "    </tr>\n",
       "  </tbody>\n",
       "</table>\n",
       "</div>"
      ],
      "text/plain": [
       "                                              Review       date     Location\n",
       "0  I was very impressed with the resort.\\n Great ... 2019-08-20    Sebastian\n",
       "1  The rooms were nice the outside needs work als... 2019-08-20  Los Angeles\n",
       "2  Great location! I have stayed at this hotel on... 2019-08-20      Georgia\n",
       "3  The hotel was adequate for my stay. The strips... 2019-08-20          NaN\n",
       "4  Great location, room was large and spacious. P... 2019-08-19  Palm Harbor"
      ]
     },
     "execution_count": 2,
     "metadata": {},
     "output_type": "execute_result"
    }
   ],
   "source": [
    "df = pd.read_excel(\"Data Analyst(Test Data).xlsx\")\n",
    "df.head()"
   ]
  },
  {
   "cell_type": "markdown",
   "id": "711d26cf-affc-44cb-ae7b-da638d30cca4",
   "metadata": {},
   "source": [
    "# Data Preprocessing"
   ]
  },
  {
   "cell_type": "code",
   "execution_count": 3,
   "id": "f1b4bec9-7048-416d-839e-87fde28ceda3",
   "metadata": {},
   "outputs": [
    {
     "name": "stdout",
     "output_type": "stream",
     "text": [
      "<class 'pandas.core.frame.DataFrame'>\n",
      "RangeIndex: 6448 entries, 0 to 6447\n",
      "Data columns (total 3 columns):\n",
      " #   Column    Non-Null Count  Dtype         \n",
      "---  ------    --------------  -----         \n",
      " 0   Review    6393 non-null   object        \n",
      " 1   date      6448 non-null   datetime64[ns]\n",
      " 2   Location  1711 non-null   object        \n",
      "dtypes: datetime64[ns](1), object(2)\n",
      "memory usage: 151.3+ KB\n"
     ]
    }
   ],
   "source": [
    "df.info()"
   ]
  },
  {
   "cell_type": "code",
   "execution_count": 4,
   "id": "a17d4552-2397-400b-8bd8-f925ed3b8830",
   "metadata": {},
   "outputs": [
    {
     "data": {
      "text/plain": [
       "Review        55\n",
       "date           0\n",
       "Location    4737\n",
       "dtype: int64"
      ]
     },
     "execution_count": 4,
     "metadata": {},
     "output_type": "execute_result"
    }
   ],
   "source": [
    "df.isna().sum()"
   ]
  },
  {
   "cell_type": "code",
   "execution_count": 5,
   "id": "dc1150ef-3ab7-49fa-9b24-6ec7321a6d85",
   "metadata": {},
   "outputs": [
    {
     "data": {
      "text/plain": [
       "(6448, 3)"
      ]
     },
     "execution_count": 5,
     "metadata": {},
     "output_type": "execute_result"
    }
   ],
   "source": [
    "df.shape"
   ]
  },
  {
   "cell_type": "code",
   "execution_count": 6,
   "id": "ebcb68bf-ff88-426c-ac23-03526fcb6e85",
   "metadata": {},
   "outputs": [
    {
     "data": {
      "text/plain": [
       "(6393, 3)"
      ]
     },
     "execution_count": 6,
     "metadata": {},
     "output_type": "execute_result"
    }
   ],
   "source": [
    "df = df.dropna(subset=[\"Review\"])  # Removing row with no review given\n",
    "df.shape"
   ]
  },
  {
   "cell_type": "code",
   "execution_count": 7,
   "id": "09a91798-ed36-4d13-8c77-648da53ab4d1",
   "metadata": {},
   "outputs": [
    {
     "data": {
      "text/html": [
       "<div>\n",
       "<style scoped>\n",
       "    .dataframe tbody tr th:only-of-type {\n",
       "        vertical-align: middle;\n",
       "    }\n",
       "\n",
       "    .dataframe tbody tr th {\n",
       "        vertical-align: top;\n",
       "    }\n",
       "\n",
       "    .dataframe thead th {\n",
       "        text-align: right;\n",
       "    }\n",
       "</style>\n",
       "<table border=\"1\" class=\"dataframe\">\n",
       "  <thead>\n",
       "    <tr style=\"text-align: right;\">\n",
       "      <th></th>\n",
       "      <th>Review</th>\n",
       "      <th>date</th>\n",
       "      <th>Location</th>\n",
       "    </tr>\n",
       "  </thead>\n",
       "  <tbody>\n",
       "    <tr>\n",
       "      <th>0</th>\n",
       "      <td>I was very impressed with the resort.\\n Great ...</td>\n",
       "      <td>2019-08-20</td>\n",
       "      <td>Sebastian</td>\n",
       "    </tr>\n",
       "    <tr>\n",
       "      <th>1</th>\n",
       "      <td>The rooms were nice the outside needs work als...</td>\n",
       "      <td>2019-08-20</td>\n",
       "      <td>Los Angeles</td>\n",
       "    </tr>\n",
       "    <tr>\n",
       "      <th>2</th>\n",
       "      <td>Great location! I have stayed at this hotel on...</td>\n",
       "      <td>2019-08-20</td>\n",
       "      <td>Georgia</td>\n",
       "    </tr>\n",
       "    <tr>\n",
       "      <th>3</th>\n",
       "      <td>The hotel was adequate for my stay. The strips...</td>\n",
       "      <td>2019-08-20</td>\n",
       "      <td>Unknown</td>\n",
       "    </tr>\n",
       "    <tr>\n",
       "      <th>4</th>\n",
       "      <td>Great location, room was large and spacious. P...</td>\n",
       "      <td>2019-08-19</td>\n",
       "      <td>Palm Harbor</td>\n",
       "    </tr>\n",
       "  </tbody>\n",
       "</table>\n",
       "</div>"
      ],
      "text/plain": [
       "                                              Review       date     Location\n",
       "0  I was very impressed with the resort.\\n Great ... 2019-08-20    Sebastian\n",
       "1  The rooms were nice the outside needs work als... 2019-08-20  Los Angeles\n",
       "2  Great location! I have stayed at this hotel on... 2019-08-20      Georgia\n",
       "3  The hotel was adequate for my stay. The strips... 2019-08-20      Unknown\n",
       "4  Great location, room was large and spacious. P... 2019-08-19  Palm Harbor"
      ]
     },
     "execution_count": 7,
     "metadata": {},
     "output_type": "execute_result"
    }
   ],
   "source": [
    "df = df.fillna(\"Unknown\")\n",
    "df.head()"
   ]
  },
  {
   "cell_type": "markdown",
   "id": "25a7f601-e070-44db-a25f-c89c42a4d9d4",
   "metadata": {},
   "source": [
    "# EDA"
   ]
  },
  {
   "cell_type": "markdown",
   "id": "8cf302b7-c775-405a-a3c0-2a36e12421aa",
   "metadata": {},
   "source": [
    "# Date range of data"
   ]
  },
  {
   "cell_type": "code",
   "execution_count": 8,
   "id": "bc3760b6-e27b-4b03-bc36-14fc9550fcae",
   "metadata": {},
   "outputs": [
    {
     "name": "stdout",
     "output_type": "stream",
     "text": [
      "From 2018-08-01 00:00:00 to 2019-08-20 00:00:00\n"
     ]
    }
   ],
   "source": [
    "print(f\"From {df.date.min()} to {df.date.max()}\")"
   ]
  },
  {
   "cell_type": "markdown",
   "id": "8d072731-1357-4910-b33f-ac2fe5176dda",
   "metadata": {},
   "source": [
    "# Date Range during which highest reviews are recieved on"
   ]
  },
  {
   "cell_type": "code",
   "execution_count": 9,
   "id": "9ace6d6b-453f-460c-b12e-77d6be37ce40",
   "metadata": {},
   "outputs": [
    {
     "data": {
      "text/plain": [
       "date\n",
       "2019-06-01    150\n",
       "2019-05-01    136\n",
       "2019-07-01    103\n",
       "2019-03-01     99\n",
       "2018-10-01     91\n",
       "2019-02-01     90\n",
       "2018-09-01     84\n",
       "2018-11-01     73\n",
       "2018-12-01     68\n",
       "2018-08-01     64\n",
       "Name: count, dtype: int64"
      ]
     },
     "execution_count": 9,
     "metadata": {},
     "output_type": "execute_result"
    }
   ],
   "source": [
    "df.date.value_counts()[:10]"
   ]
  },
  {
   "cell_type": "markdown",
   "id": "8274909d-50ff-41fe-a36f-a5cdb05661ea",
   "metadata": {},
   "source": [
    "# year wise reviews are recieved on"
   ]
  },
  {
   "cell_type": "code",
   "execution_count": 10,
   "id": "835419f3-9ea5-4a0a-9fc2-698d243449ba",
   "metadata": {},
   "outputs": [
    {
     "data": {
      "text/plain": [
       "date\n",
       "2019    3821\n",
       "2018    2572\n",
       "Name: count, dtype: int64"
      ]
     },
     "execution_count": 10,
     "metadata": {},
     "output_type": "execute_result"
    }
   ],
   "source": [
    "df.date.dt.year.value_counts()"
   ]
  },
  {
   "cell_type": "markdown",
   "id": "23c1eb02-168b-49b6-a841-400d9010b00a",
   "metadata": {},
   "source": [
    "# Months in which highest reviews are recieved on"
   ]
  },
  {
   "cell_type": "code",
   "execution_count": 11,
   "id": "9eb9b682-c725-4912-8ce8-3a3a1b727f38",
   "metadata": {},
   "outputs": [
    {
     "data": {
      "text/plain": [
       "date\n",
       "12    626\n",
       "10    520\n",
       "11    515\n",
       "9     478\n",
       "8     433\n",
       "Name: count, dtype: int64"
      ]
     },
     "execution_count": 11,
     "metadata": {},
     "output_type": "execute_result"
    }
   ],
   "source": [
    "df[df.date.dt.year == 2018].date.dt.month.value_counts()"
   ]
  },
  {
   "cell_type": "code",
   "execution_count": 12,
   "id": "8961cd7b-259a-488b-a6a2-7d370e6c90da",
   "metadata": {},
   "outputs": [
    {
     "data": {
      "text/plain": [
       "date\n",
       "3    603\n",
       "4    583\n",
       "7    547\n",
       "5    521\n",
       "1    504\n",
       "2    412\n",
       "6    362\n",
       "8    289\n",
       "Name: count, dtype: int64"
      ]
     },
     "execution_count": 12,
     "metadata": {},
     "output_type": "execute_result"
    }
   ],
   "source": [
    "df[df.date.dt.year == 2019].date.dt.month.value_counts()"
   ]
  },
  {
   "cell_type": "code",
   "execution_count": 13,
   "id": "ed46aa7e-5a61-4834-b781-8cbe03efe502",
   "metadata": {},
   "outputs": [
    {
     "data": {
      "image/png": "[encoded data removed]",
      "text/plain": [
       "<Figure size 640x480 with 1 Axes>"
      ]
     },
     "metadata": {},
     "output_type": "display_data"
    }
   ],
   "source": [
    "plt.plot(df[df.date.dt.year == 2018].date.dt.month.value_counts());"
   ]
  },
  {
   "cell_type": "code",
   "execution_count": 14,
   "id": "33d036a9-ece7-419e-8ae8-d6f3125a9699",
   "metadata": {},
   "outputs": [
    {
     "data": {
      "image/png": "[encoded data removed]",
      "text/plain": [
       "<Figure size 640x480 with 1 Axes>"
      ]
     },
     "metadata": {},
     "output_type": "display_data"
    }
   ],
   "source": [
    "plt.plot(df[df.date.dt.year == 2019].date.dt.month.value_counts());"
   ]
  },
  {
   "cell_type": "markdown",
   "id": "bf611392-f6f0-4193-8e0f-c951d31ab633",
   "metadata": {},
   "source": [
    "# Top Locations from which reviews are recieved"
   ]
  },
  {
   "cell_type": "code",
   "execution_count": 15,
   "id": "fb312233-aae7-4319-bdcc-a6339c28e1da",
   "metadata": {},
   "outputs": [
    {
     "data": {
      "text/plain": [
       "Location\n",
       "Unknown                     4688\n",
       "United States of America     116\n",
       "New York                      34\n",
       "California                    19\n",
       "San Jose                      19\n",
       "Canada                        16\n",
       "Florida                       16\n",
       "United Kingdom                14\n",
       "New York, NY                  13\n",
       "Toronto                       12\n",
       "Name: count, dtype: int64"
      ]
     },
     "execution_count": 15,
     "metadata": {},
     "output_type": "execute_result"
    }
   ],
   "source": [
    "df[\"Location\"].value_counts()[:10]"
   ]
  },
  {
   "cell_type": "markdown",
   "id": "7a0e02a9-c672-40fe-bc29-6269ab05d9c2",
   "metadata": {},
   "source": [
    "# Total countries including Unknown as one"
   ]
  },
  {
   "cell_type": "code",
   "execution_count": 16,
   "id": "fc74d0e6-b537-452a-b620-ff9858168f16",
   "metadata": {},
   "outputs": [
    {
     "data": {
      "text/plain": [
       "1079"
      ]
     },
     "execution_count": 16,
     "metadata": {},
     "output_type": "execute_result"
    }
   ],
   "source": [
    "len(list(df.Location.unique()))"
   ]
  },
  {
   "cell_type": "markdown",
   "id": "aa27deb2-0155-4a5b-8354-5b0a7da41980",
   "metadata": {},
   "source": [
    "#  Removing stop words from the reviews"
   ]
  },
  {
   "cell_type": "code",
   "execution_count": 17,
   "id": "cdbff752-a574-4825-86bf-8d7182e4af3a",
   "metadata": {},
   "outputs": [],
   "source": [
    "# nltk.download(\"stopwords\")\n",
    "STOPWORDS = stopwords.words(\"english\")\n",
    "\n",
    "\n",
    "def clean_text_nltk(text):\n",
    "    text = text.lower()\n",
    "    text = re.sub(r\"[^0-9a-zA-Z]\", \" \", text)\n",
    "    text = re.sub(r\"\\s+\", \" \", text)\n",
    "    filtered_tokens = \" \".join(word for word in text.split() if word not in STOPWORDS)\n",
    "    return filtered_tokens"
   ]
  },
  {
   "cell_type": "code",
   "execution_count": 18,
   "id": "0c570e1b-6493-4345-b6f6-2a3462997c28",
   "metadata": {},
   "outputs": [
    {
     "data": {
      "text/html": [
       "<div>\n",
       "<style scoped>\n",
       "    .dataframe tbody tr th:only-of-type {\n",
       "        vertical-align: middle;\n",
       "    }\n",
       "\n",
       "    .dataframe tbody tr th {\n",
       "        vertical-align: top;\n",
       "    }\n",
       "\n",
       "    .dataframe thead th {\n",
       "        text-align: right;\n",
       "    }\n",
       "</style>\n",
       "<table border=\"1\" class=\"dataframe\">\n",
       "  <thead>\n",
       "    <tr style=\"text-align: right;\">\n",
       "      <th></th>\n",
       "      <th>Review</th>\n",
       "      <th>date</th>\n",
       "      <th>Location</th>\n",
       "    </tr>\n",
       "  </thead>\n",
       "  <tbody>\n",
       "    <tr>\n",
       "      <th>0</th>\n",
       "      <td>impressed resort great staff main resort pool ...</td>\n",
       "      <td>2019-08-20</td>\n",
       "      <td>Sebastian</td>\n",
       "    </tr>\n",
       "    <tr>\n",
       "      <th>1</th>\n",
       "      <td>rooms nice outside needs work also free breakf...</td>\n",
       "      <td>2019-08-20</td>\n",
       "      <td>Los Angeles</td>\n",
       "    </tr>\n",
       "    <tr>\n",
       "      <th>2</th>\n",
       "      <td>great location stayed hotel last three trips n...</td>\n",
       "      <td>2019-08-20</td>\n",
       "      <td>Georgia</td>\n",
       "    </tr>\n",
       "    <tr>\n",
       "      <th>3</th>\n",
       "      <td>hotel adequate stay strips bathtub useless fel...</td>\n",
       "      <td>2019-08-20</td>\n",
       "      <td>Unknown</td>\n",
       "    </tr>\n",
       "    <tr>\n",
       "      <th>4</th>\n",
       "      <td>great location room large spacious parking eas...</td>\n",
       "      <td>2019-08-19</td>\n",
       "      <td>Palm Harbor</td>\n",
       "    </tr>\n",
       "  </tbody>\n",
       "</table>\n",
       "</div>"
      ],
      "text/plain": [
       "                                              Review       date     Location\n",
       "0  impressed resort great staff main resort pool ... 2019-08-20    Sebastian\n",
       "1  rooms nice outside needs work also free breakf... 2019-08-20  Los Angeles\n",
       "2  great location stayed hotel last three trips n... 2019-08-20      Georgia\n",
       "3  hotel adequate stay strips bathtub useless fel... 2019-08-20      Unknown\n",
       "4  great location room large spacious parking eas... 2019-08-19  Palm Harbor"
      ]
     },
     "execution_count": 18,
     "metadata": {},
     "output_type": "execute_result"
    }
   ],
   "source": [
    "df.loc[:, \"Review\"] = df.Review.apply(clean_text_nltk)\n",
    "df.head()"
   ]
  },
  {
   "cell_type": "code",
   "execution_count": 19,
   "id": "86cb4ed3-b3d5-456b-b670-27c018c00452",
   "metadata": {},
   "outputs": [
    {
     "data": {
      "text/plain": [
       "'impressed resort great staff main resort pool bar blast clean professional staff great location reasonable read read less'"
      ]
     },
     "execution_count": 19,
     "metadata": {},
     "output_type": "execute_result"
    }
   ],
   "source": [
    "df.iloc[0][\"Review\"]"
   ]
  },
  {
   "cell_type": "code",
   "execution_count": 20,
   "id": "f6164352-93a1-4844-9161-1439516a1953",
   "metadata": {},
   "outputs": [
    {
     "data": {
      "text/plain": [
       "0.9325"
      ]
     },
     "execution_count": 20,
     "metadata": {},
     "output_type": "execute_result"
    }
   ],
   "source": [
    "sia = SentimentIntensityAnalyzer()\n",
    "sia.polarity_scores(df.iloc[0][\"Review\"])[\"compound\"]"
   ]
  },
  {
   "cell_type": "markdown",
   "id": "5d4b2b88-7c98-4ddf-846b-7eca161a081a",
   "metadata": {},
   "source": [
    "### Using Compound :\n",
    "compound: This is a composite score that is calculated using a formula that normalizes the scores. It ranges from -1.0 to 1.0, where -1.0 \n",
    "means extremely negative, 1.0 means extremely positive, and 0.0 means neutral. In this case, the compound score is 0.9325, which indicates a very positive sentiment.\n",
    "\n",
    "Here storing Positive, Neutral and Negative into separate column based on score calculated from reviews"
   ]
  },
  {
   "cell_type": "code",
   "execution_count": 21,
   "id": "4b0497bd-1030-4838-922f-f8e0fd60fdb8",
   "metadata": {},
   "outputs": [
    {
     "data": {
      "text/html": [
       "<div>\n",
       "<style scoped>\n",
       "    .dataframe tbody tr th:only-of-type {\n",
       "        vertical-align: middle;\n",
       "    }\n",
       "\n",
       "    .dataframe tbody tr th {\n",
       "        vertical-align: top;\n",
       "    }\n",
       "\n",
       "    .dataframe thead th {\n",
       "        text-align: right;\n",
       "    }\n",
       "</style>\n",
       "<table border=\"1\" class=\"dataframe\">\n",
       "  <thead>\n",
       "    <tr style=\"text-align: right;\">\n",
       "      <th></th>\n",
       "      <th>Review</th>\n",
       "      <th>date</th>\n",
       "      <th>Location</th>\n",
       "      <th>category</th>\n",
       "    </tr>\n",
       "  </thead>\n",
       "  <tbody>\n",
       "    <tr>\n",
       "      <th>0</th>\n",
       "      <td>impressed resort great staff main resort pool ...</td>\n",
       "      <td>2019-08-20</td>\n",
       "      <td>Sebastian</td>\n",
       "      <td>Positive</td>\n",
       "    </tr>\n",
       "    <tr>\n",
       "      <th>1</th>\n",
       "      <td>rooms nice outside needs work also free breakf...</td>\n",
       "      <td>2019-08-20</td>\n",
       "      <td>Los Angeles</td>\n",
       "      <td>Positive</td>\n",
       "    </tr>\n",
       "    <tr>\n",
       "      <th>2</th>\n",
       "      <td>great location stayed hotel last three trips n...</td>\n",
       "      <td>2019-08-20</td>\n",
       "      <td>Georgia</td>\n",
       "      <td>Positive</td>\n",
       "    </tr>\n",
       "    <tr>\n",
       "      <th>3</th>\n",
       "      <td>hotel adequate stay strips bathtub useless fel...</td>\n",
       "      <td>2019-08-20</td>\n",
       "      <td>Unknown</td>\n",
       "      <td>Positive</td>\n",
       "    </tr>\n",
       "    <tr>\n",
       "      <th>4</th>\n",
       "      <td>great location room large spacious parking eas...</td>\n",
       "      <td>2019-08-19</td>\n",
       "      <td>Palm Harbor</td>\n",
       "      <td>Positive</td>\n",
       "    </tr>\n",
       "  </tbody>\n",
       "</table>\n",
       "</div>"
      ],
      "text/plain": [
       "                                              Review       date     Location  \\\n",
       "0  impressed resort great staff main resort pool ... 2019-08-20    Sebastian   \n",
       "1  rooms nice outside needs work also free breakf... 2019-08-20  Los Angeles   \n",
       "2  great location stayed hotel last three trips n... 2019-08-20      Georgia   \n",
       "3  hotel adequate stay strips bathtub useless fel... 2019-08-20      Unknown   \n",
       "4  great location room large spacious parking eas... 2019-08-19  Palm Harbor   \n",
       "\n",
       "   category  \n",
       "0  Positive  \n",
       "1  Positive  \n",
       "2  Positive  \n",
       "3  Positive  \n",
       "4  Positive  "
      ]
     },
     "execution_count": 21,
     "metadata": {},
     "output_type": "execute_result"
    }
   ],
   "source": [
    "def sentiment_score(text):\n",
    "    score = sia.polarity_scores(text)[\"compound\"]\n",
    "    if score > 0:\n",
    "        return \"Positive\"\n",
    "    elif score < 0:\n",
    "        return \"Negative\"\n",
    "    else:\n",
    "        return \"Neutral\"\n",
    "\n",
    "\n",
    "df[\"category\"] = df.Review.apply(sentiment_score)\n",
    "df.head()"
   ]
  },
  {
   "cell_type": "markdown",
   "id": "6568ebd7-a8b0-4aac-b2d6-84d33000a045",
   "metadata": {},
   "source": [
    "# Positive, Neutral and Negative distribution in the data"
   ]
  },
  {
   "cell_type": "code",
   "execution_count": 22,
   "id": "4b84cb81-9c30-439f-aa1c-651602da24c9",
   "metadata": {},
   "outputs": [
    {
     "data": {
      "text/plain": [
       "category\n",
       "Positive    4758\n",
       "Negative     916\n",
       "Neutral      719\n",
       "Name: count, dtype: int64"
      ]
     },
     "execution_count": 22,
     "metadata": {},
     "output_type": "execute_result"
    }
   ],
   "source": [
    "df.category.value_counts()"
   ]
  },
  {
   "cell_type": "code",
   "execution_count": 23,
   "id": "91229b07-243e-429e-a9e8-f42a92a68f6d",
   "metadata": {},
   "outputs": [
    {
     "data": {
      "image/png": "[encoded data removed]",
      "text/plain": [
       "<Figure size 640x480 with 1 Axes>"
      ]
     },
     "metadata": {},
     "output_type": "display_data"
    }
   ],
   "source": [
    "plt.pie(df.category.value_counts(), labels=df.category.unique(), autopct=\"%.2f%%\");"
   ]
  },
  {
   "cell_type": "markdown",
   "id": "914accb9-63cc-4085-a216-014c879f7972",
   "metadata": {},
   "source": [
    "# Location with highest positive reviews"
   ]
  },
  {
   "cell_type": "code",
   "execution_count": 24,
   "id": "05f639a0-d5dc-4fd9-b191-8c33f11cf9b0",
   "metadata": {},
   "outputs": [
    {
     "data": {
      "text/plain": [
       "Location                  category\n",
       "Unknown                   Positive    3474\n",
       "United States of America  Positive      78\n",
       "New York                  Positive      26\n",
       "San Jose                  Positive      17\n",
       "California                Positive      16\n",
       "Canada                    Positive      11\n",
       "Toronto                   Positive      10\n",
       "United Kingdom            Positive      10\n",
       "Los Angeles               Positive       9\n",
       "San Diego                 Positive       9\n",
       "Miami                     Positive       9\n",
       "Chicago                   Positive       9\n",
       "Boston                    Positive       8\n",
       "Orlando                   Positive       8\n",
       "Florida                   Positive       8\n",
       "New York, NY              Positive       8\n",
       "Philadelphia              Positive       8\n",
       "Seattle                   Positive       8\n",
       "NYC                       Positive       7\n",
       "London                    Positive       7\n",
       "dtype: int64"
      ]
     },
     "execution_count": 24,
     "metadata": {},
     "output_type": "execute_result"
    }
   ],
   "source": [
    "df[df.category == \"Positive\"].groupby([\"Location\", \"category\"]).size().sort_values(\n",
    "    ascending=False\n",
    ")[:20]"
   ]
  },
  {
   "cell_type": "markdown",
   "id": "85dc049f-94f3-43a3-a6a6-01ab00e642d7",
   "metadata": {},
   "source": [
    "# Location with highest negative reviews"
   ]
  },
  {
   "cell_type": "code",
   "execution_count": 25,
   "id": "1ffc4404-5d74-4485-81a1-0a4c62f203fa",
   "metadata": {},
   "outputs": [
    {
     "data": {
      "text/plain": [
       "Location                  category\n",
       "Unknown                   Negative    681\n",
       "United States of America  Negative     14\n",
       "New York                  Negative      5\n",
       "Florida                   Negative      5\n",
       "NY                        Negative      4\n",
       "Seattle                   Negative      3\n",
       "Orlando                   Negative      3\n",
       "Canada                    Negative      3\n",
       "Chicago                   Negative      2\n",
       "San Diego                 Negative      2\n",
       "Stuttgart                 Negative      2\n",
       "Miami                     Negative      2\n",
       "US                        Negative      2\n",
       "United Kingdom            Negative      2\n",
       "Montreal                  Negative      2\n",
       "LA                        Negative      2\n",
       "Atlanta, GA               Negative      2\n",
       "New York, NY              Negative      2\n",
       "California                Negative      2\n",
       "NYC                       Negative      2\n",
       "dtype: int64"
      ]
     },
     "execution_count": 25,
     "metadata": {},
     "output_type": "execute_result"
    }
   ],
   "source": [
    "df[df.category == \"Negative\"].groupby([\"Location\", \"category\"]).size().sort_values(\n",
    "    ascending=False\n",
    ")[:20]"
   ]
  },
  {
   "cell_type": "markdown",
   "id": "02ce4c27-6e2b-4407-9d36-c1b3cd77852c",
   "metadata": {},
   "source": [
    "# Location with highest neutral reviews"
   ]
  },
  {
   "cell_type": "code",
   "execution_count": 26,
   "id": "e6a38e93-c9d9-49da-b43f-6da478e46593",
   "metadata": {},
   "outputs": [
    {
     "data": {
      "text/plain": [
       "Location                  category\n",
       "Unknown                   Neutral     533\n",
       "United States of America  Neutral      24\n",
       "Puerto Rico               Neutral       5\n",
       "New York, NY              Neutral       3\n",
       "New York                  Neutral       3\n",
       "Florida                   Neutral       3\n",
       "España                    Neutral       2\n",
       "saitama, jp               Neutral       2\n",
       "ny                        Neutral       2\n",
       "mexico                    Neutral       2\n",
       "United Kingdom            Neutral       2\n",
       "Santo Domingo             Neutral       2\n",
       "Québec                    Neutral       2\n",
       "Montréal                  Neutral       2\n",
       "Kuwait                    Neutral       2\n",
       "Guadalajara               Neutral       2\n",
       "東京                        Neutral       2\n",
       "Canada                    Neutral       2\n",
       "Cannes                    Neutral       1\n",
       "San Jose, California      Neutral       1\n",
       "dtype: int64"
      ]
     },
     "execution_count": 26,
     "metadata": {},
     "output_type": "execute_result"
    }
   ],
   "source": [
    "df[df.category == \"Neutral\"].groupby([\"Location\", \"category\"]).size().sort_values(\n",
    "    ascending=False\n",
    ")[:20]"
   ]
  },
  {
   "cell_type": "code",
   "execution_count": 27,
   "id": "422860c7-b6b8-4ff1-8771-1865621ca18a",
   "metadata": {},
   "outputs": [
    {
     "data": {
      "text/plain": [
       "1909"
      ]
     },
     "execution_count": 27,
     "metadata": {},
     "output_type": "execute_result"
    }
   ],
   "source": [
    "pos_1 = df[(df.category == \"Positive\") & (df.date.dt.year == 2018)][\"Review\"].count()\n",
    "pos_1"
   ]
  },
  {
   "cell_type": "code",
   "execution_count": 28,
   "id": "f6e8d896-e038-4246-8a69-ad26ba20d7bd",
   "metadata": {},
   "outputs": [
    {
     "data": {
      "text/plain": [
       "363"
      ]
     },
     "execution_count": 28,
     "metadata": {},
     "output_type": "execute_result"
    }
   ],
   "source": [
    "neg_1 = df[(df.category == \"Negative\") & (df.date.dt.year == 2018)][\"Review\"].count()\n",
    "neg_1"
   ]
  },
  {
   "cell_type": "code",
   "execution_count": 29,
   "id": "deb874ae-3f51-424d-98ba-7aa0187443ac",
   "metadata": {},
   "outputs": [
    {
     "data": {
      "text/plain": [
       "2849"
      ]
     },
     "execution_count": 29,
     "metadata": {},
     "output_type": "execute_result"
    }
   ],
   "source": [
    "pos_2 = df[(df.category == \"Positive\") & (df.date.dt.year == 2019)][\"Review\"].count()\n",
    "pos_2"
   ]
  },
  {
   "cell_type": "code",
   "execution_count": 30,
   "id": "52002a6b-0a34-4467-aa0d-8867fa97fb5a",
   "metadata": {},
   "outputs": [
    {
     "data": {
      "text/plain": [
       "553"
      ]
     },
     "execution_count": 30,
     "metadata": {},
     "output_type": "execute_result"
    }
   ],
   "source": [
    "neg_2 = df[(df.category == \"Negative\") & (df.date.dt.year == 2019)][\"Review\"].count()\n",
    "neg_2"
   ]
  },
  {
   "cell_type": "code",
   "execution_count": 31,
   "id": "52a57f11-e968-464e-ac35-0ad8a7a3d65d",
   "metadata": {},
   "outputs": [],
   "source": [
    "total_2019 = df[df.date.dt.year == 2019][\"date\"].count()\n",
    "total_2018 = df[df.date.dt.year == 2018][\"date\"].count()"
   ]
  },
  {
   "cell_type": "code",
   "execution_count": 32,
   "id": "f1eabad4-6a3b-4324-b27e-8494caacbcd4",
   "metadata": {},
   "outputs": [
    {
     "name": "stdout",
     "output_type": "stream",
     "text": [
      "Total Positive Reviews in 2018 and 2019 are 1909 of 2572 and 2849 of 3821 with Negative of 663 and 972\n"
     ]
    }
   ],
   "source": [
    "print(\n",
    "    f\"Total Positive Reviews in 2018 and 2019 are {pos_1} of {total_2018} and {pos_2} of {total_2019} with Negative of {total_2018-pos_1} and {total_2019-pos_2}\"\n",
    ")"
   ]
  },
  {
   "cell_type": "code",
   "execution_count": 33,
   "id": "12c70044-904d-4069-8323-22e06a1d3f4e",
   "metadata": {},
   "outputs": [
    {
     "data": {
      "image/png": "[encoded data removed]",
      "text/plain": [
       "<Figure size 1000x600 with 2 Axes>"
      ]
     },
     "metadata": {},
     "output_type": "display_data"
    }
   ],
   "source": [
    "fig, ax = plt.subplots(ncols=2)\n",
    "\n",
    "fig.set(size_inches=(10,6))\n",
    "\n",
    "ax[0].pie(\n",
    "    [pos_1, total_2018 - pos_1],\n",
    "    labels=[\"Postive Reviews\", \"Negative Reviews\"],\n",
    "    autopct=\"%.2f%%\",\n",
    ")\n",
    "ax[0].set_title('2018')\n",
    "\n",
    "ax[1].pie(\n",
    "    [pos_2, total_2019 - pos_2],\n",
    "    labels=[\"Postive Reviews\", \"Negative Reviews\"],\n",
    "    autopct=\"%.2f%%\",\n",
    ")\n",
    "ax[1].set_title('2019');"
   ]
  }
 ],
 "metadata": {
  "kernelspec": {
   "display_name": "Python 3 (ipykernel)",
   "language": "python",
   "name": "python3"
  },
  "language_info": {
   "codemirror_mode": {
    "name": "ipython",
    "version": 3
   },
   "file_extension": ".py",
   "mimetype": "text/x-python",
   "name": "python",
   "nbconvert_exporter": "python",
   "pygments_lexer": "ipython3",
   "version": "3.11.6"
  }
 },
 "nbformat": 4,
 "nbformat_minor": 5
}
